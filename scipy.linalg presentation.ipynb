{
 "cells": [
  {
   "cell_type": "markdown",
   "id": "0a87ec9a",
   "metadata": {},
   "source": [
    "##### Instructions\n",
    "1. Try to convey what you've learned about the project in what would take 5-10 minutes to read/watch. If it's software that can run in a notebook, you can include runnable examples. Images and plots are highly encouraged.\n",
    "2. Share at least one question you have about the software.\n",
    "3. Propose at least one experiment that would be interesting for a group project. Describe what the experiment would measure and how it would be presented (e.g., what the axes would be on a figure).\n",
    "4. Commit and push to your repository."
   ]
  },
  {
   "cell_type": "markdown",
   "id": "22aee448",
   "metadata": {},
   "source": [
    "I thought it would be interesting to see how using the software provided by SciPy can speed up calculations - if there is a real difference in runtime or not. The example below shows SVD without using the svd function."
   ]
  },
  {
   "cell_type": "code",
   "execution_count": 38,
   "id": "72ef1c0a",
   "metadata": {},
   "outputs": [
    {
     "name": "stdout",
     "output_type": "stream",
     "text": [
      "U:\n",
      " [[-0.2298477   0.88346102]\n",
      " [-0.52474482  0.24078249]\n",
      " [-0.81964194 -0.40189603]]\n",
      "s:\n",
      " [9.52551809 0.51430058]\n",
      "V:\n",
      " [[-0.61962948 -0.78489445]\n",
      " [-0.78489445  0.61962948]]\n"
     ]
    }
   ],
   "source": [
    "import numpy as np\n",
    "# Test matrix\n",
    "A = np.array([[1, 2], [3, 4], [5, 6]])\n",
    "\n",
    "# Compute the SVD using eigendecomposition\n",
    "ATA = A.T @ A\n",
    "eigenvalues, eigenvectors = np.linalg.eig(ATA)\n",
    "\n",
    "# Sort the eigenvectors and eigenvalues\n",
    "sort_indices = np.argsort(eigenvalues)[::-1]\n",
    "eigenvalues = eigenvalues[sort_indices]\n",
    "eigenvectors = eigenvectors[:,sort_indices]\n",
    "\n",
    "# Compute singular values, U, and V\n",
    "singular_values = np.sqrt(eigenvalues)\n",
    "V = eigenvectors\n",
    "U = A @ V / singular_values\n",
    "\n",
    "print(\"U:\\n\", U)\n",
    "print(\"s:\\n\", singular_values)\n",
    "print(\"V:\\n\", V)"
   ]
  },
  {
   "cell_type": "code",
   "execution_count": 39,
   "id": "059a177b",
   "metadata": {},
   "outputs": [
    {
     "data": {
      "image/png": "[encoded data removed]",
      "text/plain": [
       "<Figure size 432x288 with 1 Axes>"
      ]
     },
     "metadata": {
      "needs_background": "light"
     },
     "output_type": "display_data"
    }
   ],
   "source": [
    "import time\n",
    "import matplotlib.pyplot as plt\n",
    "\n",
    "# Test Range (KEEP CONSISTENT)\n",
    "sizes = [100, 200, 300, 400, 500]\n",
    "\n",
    "runtimes = []\n",
    "\n",
    "# Test each size\n",
    "for size in sizes:\n",
    "\n",
    "    A = np.random.rand(size, size)\n",
    "    \n",
    "    # Measure runtime\n",
    "    start_time = time.time()\n",
    "    \n",
    "    #Same code as above...\n",
    "    ATA = A.T @ A\n",
    "    eigenvalues, eigenvectors = np.linalg.eig(ATA)\n",
    "    \n",
    "    sort_indices = np.argsort(eigenvalues)[::-1]\n",
    "    eigenvalues = eigenvalues[sort_indices]\n",
    "    eigenvectors = eigenvectors[:,sort_indices]\n",
    "    \n",
    "    singular_values = np.sqrt(eigenvalues)\n",
    "    V = eigenvectors\n",
    "    U = A @ V / singular_values\n",
    "    \n",
    "    # Store the runtime\n",
    "    end_time = time.time()\n",
    "    runtime = end_time - start_time\n",
    "    runtimes.append(runtime)\n",
    "\n",
    "# Plot\n",
    "plt.plot(sizes, runtimes, '-o')\n",
    "plt.xlabel('Matrix Size')\n",
    "plt.ylabel('Runtime (s)')\n",
    "plt.show()"
   ]
  },
  {
   "cell_type": "markdown",
   "id": "9a064e20",
   "metadata": {},
   "source": [
    "The example below imports svd from our SciPy library and shows a considerably different runtime plot (the y-axis max is 0.035, although this can vary each time you run it)."
   ]
  },
  {
   "cell_type": "code",
   "execution_count": 34,
   "id": "ec99fb36",
   "metadata": {},
   "outputs": [
    {
     "name": "stdout",
     "output_type": "stream",
     "text": [
      "U:\n",
      " [[-0.2298477   0.88346102  0.40824829]\n",
      " [-0.52474482  0.24078249 -0.81649658]\n",
      " [-0.81964194 -0.40189603  0.40824829]]\n",
      "s:\n",
      " [9.52551809 0.51430058]\n",
      "V:\n",
      " [[-0.61962948 -0.78489445]\n",
      " [-0.78489445  0.61962948]]\n"
     ]
    }
   ],
   "source": [
    "from scipy.linalg import svd\n",
    "A = np.array([[1, 2], [3, 4], [5,6]])\n",
    "U, s, V = svd(A)\n",
    "print(\"U:\\n\", U)\n",
    "print(\"s:\\n\", s)\n",
    "print(\"V:\\n\", V)"
   ]
  },
  {
   "cell_type": "code",
   "execution_count": 35,
   "id": "663bc051",
   "metadata": {},
   "outputs": [
    {
     "data": {
      "image/png": "[encoded data removed]",
      "text/plain": [
       "<Figure size 432x288 with 1 Axes>"
      ]
     },
     "metadata": {
      "needs_background": "light"
     },
     "output_type": "display_data"
    }
   ],
   "source": [
    "import matplotlib.pyplot as plt\n",
    "import timeit\n",
    "\n",
    "# Test Range\n",
    "sizes = [100, 200, 300, 400, 500]\n",
    "\n",
    "runtimes = []\n",
    "\n",
    "for size in sizes:\n",
    "\n",
    "    A = np.random.rand(size, size)\n",
    "    \n",
    "    # Measure the runtime of SVD method\n",
    "    t = timeit.timeit(lambda: svd(A), number=1)\n",
    "    \n",
    "    # Store the runtime\n",
    "    runtimes.append(t)\n",
    "\n",
    "plt.plot(sizes, runtimes, '-o')\n",
    "plt.xlabel('Matrix Size')\n",
    "plt.ylabel('Runtime (s)')\n",
    "plt.show()"
   ]
  },
  {
   "cell_type": "markdown",
   "id": "afda8cae",
   "metadata": {},
   "source": [
    "So, for matrices holding a large amount of data, svd() can decrease the runtime of your project. Although, this may not be a noticeable difference for smaller matrices."
   ]
  },
  {
   "cell_type": "markdown",
   "id": "5c501205",
   "metadata": {},
   "source": [
    "Is this the case for every function from SciPy library, with regards to decomposition? And what does svd do exactly that gives you your answer faster?\n",
    "\n",
    "Hopefully, I can find someone in class who also wants to work with SciPy to look into this. Or maybe we can study different packages and recreate the same experiments to evaluate differences in each."
   ]
  },
  {
   "cell_type": "code",
   "execution_count": null,
   "id": "5d603520",
   "metadata": {},
   "outputs": [],
   "source": []
  }
 ],
 "metadata": {
  "kernelspec": {
   "display_name": "Python 3",
   "language": "python",
   "name": "python3"
  },
  "language_info": {
   "codemirror_mode": {
    "name": "ipython",
    "version": 3
   },
   "file_extension": ".py",
   "mimetype": "text/x-python",
   "name": "python",
   "nbconvert_exporter": "python",
   "pygments_lexer": "ipython3",
   "version": "3.8.8"
  }
 },
 "nbformat": 4,
 "nbformat_minor": 5
}
